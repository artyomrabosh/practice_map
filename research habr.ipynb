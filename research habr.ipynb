{
 "cells": [
  {
   "cell_type": "code",
   "execution_count": 1,
   "id": "c8d25f7c",
   "metadata": {},
   "outputs": [],
   "source": [
    "import pandas as pd\n",
    "import re\n",
    "import tqdm\n",
    "from collections import Counter"
   ]
  },
  {
   "cell_type": "code",
   "execution_count": 2,
   "id": "cd7193dc",
   "metadata": {},
   "outputs": [],
   "source": [
    "df = pd.read_csv(\"data/habr/raw_texts.csv\")"
   ]
  },
  {
   "cell_type": "code",
   "execution_count": 3,
   "id": "2ae64f43",
   "metadata": {},
   "outputs": [
    {
     "name": "stdout",
     "output_type": "stream",
     "text": [
      "<class 'pandas.core.frame.DataFrame'>\n",
      "RangeIndex: 166320 entries, 0 to 166319\n",
      "Data columns (total 5 columns):\n",
      " #   Column      Non-Null Count   Dtype \n",
      "---  ------      --------------   ----- \n",
      " 0   Unnamed: 0  166320 non-null  int64 \n",
      " 1   id          166320 non-null  int64 \n",
      " 2   title       166320 non-null  object\n",
      " 3   text        165728 non-null  object\n",
      " 4   tags        166320 non-null  object\n",
      "dtypes: int64(2), object(3)\n",
      "memory usage: 6.3+ MB\n"
     ]
    }
   ],
   "source": [
    "df.info()"
   ]
  },
  {
   "cell_type": "code",
   "execution_count": 4,
   "id": "79906281",
   "metadata": {},
   "outputs": [],
   "source": [
    "def custom_str_to_lst(string):\n",
    "    return string[1:-1].replace(\"'\", \"\").split(\", \")"
   ]
  },
  {
   "cell_type": "code",
   "execution_count": 5,
   "id": "8e12b8dd",
   "metadata": {},
   "outputs": [],
   "source": [
    "df['tags'] = df.tags.apply(custom_str_to_lst)"
   ]
  },
  {
   "cell_type": "code",
   "execution_count": 6,
   "id": "8d8a3668",
   "metadata": {
    "scrolled": true
   },
   "outputs": [
    {
     "data": {
      "text/plain": [
       "['nginx',\n",
       " 'postgresql',\n",
       " 'копирайт',\n",
       " 'js',\n",
       " 'gmail',\n",
       " 'gamedev',\n",
       " 'аналитика',\n",
       " 'интервью',\n",
       " 'машинное обучение',\n",
       " 'big data',\n",
       " 'спам',\n",
       " 'роботы',\n",
       " 'hp',\n",
       " 'ruby on rails',\n",
       " 'монетизация',\n",
       " 'google chrome',\n",
       " 'django',\n",
       " 'seo',\n",
       " 'идея',\n",
       " 'искусственный интеллект',\n",
       " 'web 2.0',\n",
       " 'ajax',\n",
       " 'amazon',\n",
       " 'web',\n",
       " 'домены',\n",
       " 'wi-fi',\n",
       " 'windows 8',\n",
       " 'электронная коммерция',\n",
       " 'chrome',\n",
       " 'yahoo',\n",
       " 'github',\n",
       " 'asp.net',\n",
       " 'wordpress',\n",
       " 'производительность',\n",
       " 'unity3d',\n",
       " 'карьера',\n",
       " 'ui',\n",
       " 'oracle',\n",
       " 'финансы',\n",
       " 'интернет-магазин',\n",
       " 'css3',\n",
       " 'voip',\n",
       " 'сша',\n",
       " 'интерфейс',\n",
       " 'конференции',\n",
       " 'технологии',\n",
       " 'блоги',\n",
       " 'diy',\n",
       " '3d',\n",
       " 'разработка приложений',\n",
       " 'game development',\n",
       " 'git',\n",
       " 'android development',\n",
       " 'взлом',\n",
       " 'azure',\n",
       " 'perl',\n",
       " 'история',\n",
       " 'ноутбук',\n",
       " 'автоматизация',\n",
       " 'разработка игр',\n",
       " 'китай',\n",
       " 'общение',\n",
       " 'windows 7',\n",
       " 'опрос',\n",
       " 'framework',\n",
       " 'россия',\n",
       " 'хабр',\n",
       " 'agile',\n",
       " 'математика',\n",
       " 'sony',\n",
       " 'проектирование',\n",
       " 'asus',\n",
       " 'деньги',\n",
       " 'asterisk',\n",
       " 'mac os x',\n",
       " 'базы данных',\n",
       " 'adobe',\n",
       " 'rss',\n",
       " 'ios development',\n",
       " 'saas',\n",
       " 'закон',\n",
       " 'авторское право',\n",
       " 'machine learning',\n",
       " 'мобильная разработка',\n",
       " 'мониторинг',\n",
       " 'cloud',\n",
       " 'mac',\n",
       " 'htc',\n",
       " 'цод',\n",
       " 'исследование',\n",
       " 'bitcoin',\n",
       " 'приложения',\n",
       " 'системное администрирование',\n",
       " 'mozilla',\n",
       " 'украина',\n",
       " 'контент',\n",
       " 'objective-c',\n",
       " 'железо',\n",
       " 'mobile',\n",
       " 'продажи']"
      ]
     },
     "execution_count": 6,
     "metadata": {},
     "output_type": "execute_result"
    }
   ],
   "source": [
    "df['tags'].explode().apply(lambda x: x.lower()).value_counts().index[100:200].tolist()"
   ]
  },
  {
   "cell_type": "code",
   "execution_count": 7,
   "id": "6f96268d",
   "metadata": {},
   "outputs": [],
   "source": [
    "tags_to_save = set([\n",
    " 'javascript',\n",
    " 'linux',\n",
    " 'php',\n",
    " 'java',\n",
    " 'python',\n",
    " 'программирование',\n",
    " 'разработка',\n",
    " '.net',\n",
    " 'c++',\n",
    " 'c#',\n",
    " 'ubuntu',\n",
    " 'ruby',\n",
    " 'web-разработка',\n",
    " 'api',\n",
    " 'mysql',\n",
    " 'c',\n",
    " 'node.js',\n",
    " 'веб-разработка',\n",
    " 'алгоритмы',\n",
    " 'виртуализация',\n",
    " 'qt',\n",
    " 'интерфейсы',\n",
    " 'sql','машинное обучение','docker'])"
   ]
  },
  {
   "cell_type": "code",
   "execution_count": 8,
   "id": "30e18e23",
   "metadata": {},
   "outputs": [],
   "source": [
    "mask = df.tags.apply(lambda x: bool(list(set(x) & tags_to_save)))"
   ]
  },
  {
   "cell_type": "code",
   "execution_count": 10,
   "id": "ee927ee5",
   "metadata": {},
   "outputs": [],
   "source": [
    "res = df[mask]"
   ]
  },
  {
   "cell_type": "code",
   "execution_count": 11,
   "id": "7885857e",
   "metadata": {},
   "outputs": [
    {
     "name": "stderr",
     "output_type": "stream",
     "text": [
      "<ipython-input-11-66cd13516cbf>:1: SettingWithCopyWarning: \n",
      "A value is trying to be set on a copy of a slice from a DataFrame.\n",
      "Try using .loc[row_indexer,col_indexer] = value instead\n",
      "\n",
      "See the caveats in the documentation: https://pandas.pydata.org/pandas-docs/stable/user_guide/indexing.html#returning-a-view-versus-a-copy\n",
      "  res[\"text\"] = res.text.apply(str)\n",
      "<ipython-input-11-66cd13516cbf>:2: SettingWithCopyWarning: \n",
      "A value is trying to be set on a copy of a slice from a DataFrame.\n",
      "Try using .loc[row_indexer,col_indexer] = value instead\n",
      "\n",
      "See the caveats in the documentation: https://pandas.pydata.org/pandas-docs/stable/user_guide/indexing.html#returning-a-view-versus-a-copy\n",
      "  res[\"text_len\"] = res.text.apply(len)\n"
     ]
    },
    {
     "data": {
      "text/plain": [
       "8180.5840793918915"
      ]
     },
     "execution_count": 11,
     "metadata": {},
     "output_type": "execute_result"
    }
   ],
   "source": [
    "res[\"text\"] = res.text.apply(str)\n",
    "res[\"text_len\"] = res.text.apply(len)\n",
    "res.text_len.mean()"
   ]
  },
  {
   "cell_type": "code",
   "execution_count": 33,
   "id": "finnish-asian",
   "metadata": {},
   "outputs": [],
   "source": [
    "res.to_csv(\"\")"
   ]
  },
  {
   "cell_type": "code",
   "execution_count": 16,
   "id": "abandoned-characterization",
   "metadata": {},
   "outputs": [],
   "source": [
    "def delete_ns(text):\n",
    "    return text.replace(\"\\n\", \"\")"
   ]
  },
  {
   "cell_type": "code",
   "execution_count": 17,
   "id": "treated-asset",
   "metadata": {
    "scrolled": true
   },
   "outputs": [
    {
     "name": "stderr",
     "output_type": "stream",
     "text": [
      "<ipython-input-17-eb9a391f606c>:1: SettingWithCopyWarning: \n",
      "A value is trying to be set on a copy of a slice from a DataFrame.\n",
      "Try using .loc[row_indexer,col_indexer] = value instead\n",
      "\n",
      "See the caveats in the documentation: https://pandas.pydata.org/pandas-docs/stable/user_guide/indexing.html#returning-a-view-versus-a-copy\n",
      "  res['text'] = res.text.apply(delete_ns)\n"
     ]
    }
   ],
   "source": [
    "res['text'] = res.text.apply(delete_ns)"
   ]
  },
  {
   "cell_type": "code",
   "execution_count": 20,
   "id": "understanding-profile",
   "metadata": {},
   "outputs": [],
   "source": [
    "res=res[10000:]"
   ]
  },
  {
   "cell_type": "code",
   "execution_count": 22,
   "id": "positive-mentor",
   "metadata": {},
   "outputs": [],
   "source": [
    "res.reset_index(drop=True, inplace=True)"
   ]
  },
  {
   "cell_type": "code",
   "execution_count": 24,
   "id": "silent-pipeline",
   "metadata": {},
   "outputs": [],
   "source": [
    "res.to_csv(\"data/habr/clean_habr.csv\")"
   ]
  }
 ],
 "metadata": {
  "kernelspec": {
   "display_name": "Python 3 (ipykernel)",
   "language": "python",
   "name": "python3"
  },
  "language_info": {
   "codemirror_mode": {
    "name": "ipython",
    "version": 3
   },
   "file_extension": ".py",
   "mimetype": "text/x-python",
   "name": "python",
   "nbconvert_exporter": "python",
   "pygments_lexer": "ipython3",
   "version": "3.10.9"
  }
 },
 "nbformat": 4,
 "nbformat_minor": 5
}
