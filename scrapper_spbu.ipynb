{
 "cells": [
  {
   "cell_type": "code",
   "execution_count": 2,
   "id": "47012f4f",
   "metadata": {},
   "outputs": [],
   "source": [
    "import requests\n",
    "import os\n",
    "from pathlib import Path\n",
    "import tqdm\n",
    "\n",
    "\n",
    "import asyncio\n",
    "import aiohttp\n",
    "import aiofiles \n",
    "from tqdm.asyncio import tqdm_asyncio"
   ]
  },
  {
   "cell_type": "code",
   "execution_count": 3,
   "id": "6fa5453c",
   "metadata": {},
   "outputs": [],
   "source": [
    "class SPBU_scrapper():\n",
    "    WORKS_LIMIT = 2000\n",
    "        \n",
    "    def check_downloaded(self):\n",
    "        self.works_to_download = [f\"work_{i}.pdf\" for i in range(1, self.WORKS_LIMIT)]        \n",
    "        \n",
    "        for path in os.listdir(f\"{self.data_dir}/spbu/pdf\"):\n",
    "            if os.path.isfile(os.path.join(f\"{self.data_dir}/spbu/pdf\", path)):\n",
    "                self.works_to_download.remove(path)\n",
    "\n",
    "    def __init__(self, data_dir=\"data\"):\n",
    "        self.data_dir = data_dir\n",
    "        path = Path(f\"{data_dir}/spbu/pdf\").mkdir(parents=True, exist_ok=True)\n",
    "        \n",
    "        self.check_downloaded()\n",
    "        \n",
    "        print(f\"Found {self.WORKS_LIMIT - len(self.works_to_download)} pdfs\")\n",
    "        print()\n",
    "    \n",
    "    async def parse(self):\n",
    "\n",
    "        error_works = []\n",
    "        \n",
    "        async def fetch_file(work):\n",
    "            work_id = work[5:-4]\n",
    "            url = f\"https://se.math.spbu.ru/thesis_download?thesis_id={work_id}\"\n",
    "            \n",
    "            async with aiohttp.ClientSession() as session:\n",
    "                async with session.get(url) as resp:\n",
    "                    if resp.status == 200:\n",
    "                        data = await resp.read()\n",
    "                        async with aiofiles.open(\n",
    "                            os.path.join(self.data_dir, 'spbu/pdf', work), \"wb\"\n",
    "                        ) as outfile:\n",
    "                            await outfile.write(data)\n",
    "                        \n",
    "        tasks = [fetch_file(work) for work in self.works_to_download]\n",
    "        await tqdm_asyncio.gather(*tasks)\n",
    "        self.check_downloaded()"
   ]
  },
  {
   "cell_type": "code",
   "execution_count": 5,
   "id": "38b08d57",
   "metadata": {},
   "outputs": [
    {
     "name": "stdout",
     "output_type": "stream",
     "text": [
      "Found 1094 pdfs\n",
      "\n"
     ]
    },
    {
     "name": "stderr",
     "output_type": "stream",
     "text": [
      "100%|████████████████████████████████████████████████████████████████████████████████| 906/906 [00:10<00:00, 85.12it/s]\n"
     ]
    }
   ],
   "source": [
    "scrapper = SPBU_scrapper()\n",
    "await scrapper.parse()"
   ]
  },
  {
   "cell_type": "markdown",
   "id": "3c5bcb7c",
   "metadata": {},
   "source": [
    "## TODO\n",
    "- составить список пдф парсеров\n",
    "- протестить весь список\n",
    "- подумать как можно обьединять результаты(сделать из двух какашек золото)"
   ]
  }
 ],
 "metadata": {
  "kernelspec": {
   "display_name": "Python 3 (ipykernel)",
   "language": "python",
   "name": "python3"
  },
  "language_info": {
   "codemirror_mode": {
    "name": "ipython",
    "version": 3
   },
   "file_extension": ".py",
   "mimetype": "text/x-python",
   "name": "python",
   "nbconvert_exporter": "python",
   "pygments_lexer": "ipython3",
   "version": "3.9.12"
  }
 },
 "nbformat": 4,
 "nbformat_minor": 5
}
