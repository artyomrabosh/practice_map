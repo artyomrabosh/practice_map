{
 "cells": [
  {
   "cell_type": "code",
   "execution_count": 1,
   "id": "c8d25f7c",
   "metadata": {},
   "outputs": [],
   "source": [
    "import warnings\n",
    "\n",
    "import pandas as pd\n",
    "import seaborn as sns\n",
    "\n",
    "from utils.parsers import Parser\n",
    "\n",
    "warnings.filterwarnings('ignore')"
   ]
  },
  {
   "cell_type": "code",
   "execution_count": 5,
   "id": "cd7193dc",
   "metadata": {},
   "outputs": [],
   "source": [
    "df = pd.read_csv(\"data/habr/raw_texts.csv\")"
   ]
  },
  {
   "cell_type": "code",
   "execution_count": 6,
   "id": "2ae64f43",
   "metadata": {},
   "outputs": [
    {
     "name": "stdout",
     "output_type": "stream",
     "text": [
      "<class 'pandas.core.frame.DataFrame'>\n",
      "RangeIndex: 166320 entries, 0 to 166319\n",
      "Data columns (total 5 columns):\n",
      " #   Column      Non-Null Count   Dtype \n",
      "---  ------      --------------   ----- \n",
      " 0   Unnamed: 0  166320 non-null  int64 \n",
      " 1   id          166320 non-null  int64 \n",
      " 2   title       166320 non-null  object\n",
      " 3   text        165728 non-null  object\n",
      " 4   tags        166320 non-null  object\n",
      "dtypes: int64(2), object(3)\n",
      "memory usage: 6.3+ MB\n"
     ]
    }
   ],
   "source": [
    "df.info()"
   ]
  },
  {
   "cell_type": "code",
   "execution_count": 11,
   "id": "79906281",
   "metadata": {},
   "outputs": [],
   "source": [
    "def custom_str_to_lst(string):\n",
    "    return string[1:-1].replace(\"'\", \"\").split(\", \")"
   ]
  },
  {
   "cell_type": "code",
   "execution_count": 12,
   "id": "8e12b8dd",
   "metadata": {},
   "outputs": [],
   "source": [
    "df['tags'] = df.tags.apply(custom_str_to_lst)"
   ]
  },
  {
   "cell_type": "code",
   "execution_count": 35,
   "id": "8d8a3668",
   "metadata": {
    "scrolled": true
   },
   "outputs": [
    {
     "data": {
      "text/plain": [
       "['google',\n",
       " 'android',\n",
       " 'javascript',\n",
       " 'microsoft',\n",
       " 'linux',\n",
       " 'php',\n",
       " 'apple',\n",
       " 'java',\n",
       " 'python',\n",
       " 'программирование',\n",
       " 'стартапы',\n",
       " 'разработка',\n",
       " 'ios',\n",
       " 'стартап',\n",
       " 'социальные сети',\n",
       " 'iphone',\n",
       " '.net',\n",
       " 'яндекс',\n",
       " 'windows',\n",
       " 'css',\n",
       " 'игры',\n",
       " 'дизайн',\n",
       " 'c++',\n",
       " 'open source',\n",
       " 'хабрахабр',\n",
       " 'безопасность',\n",
       " 'интернет',\n",
       " '',\n",
       " 'facebook',\n",
       " 'реклама',\n",
       " 'информационная безопасность',\n",
       " 'видео',\n",
       " 'юмор',\n",
       " 'firefox',\n",
       " 'конференция',\n",
       " 'c#',\n",
       " 'html',\n",
       " 'html5',\n",
       " 'ubuntu',\n",
       " 'opera',\n",
       " 'статистика',\n",
       " 'юзабилити',\n",
       " 'тестирование',\n",
       " 'обзор',\n",
       " 'маркетинг',\n",
       " 'управление проектами',\n",
       " 'перевод',\n",
       " 'ruby',\n",
       " 'jquery',\n",
       " 'работа',\n",
       " 'хостинг',\n",
       " 'twitter',\n",
       " 'бизнес',\n",
       " 'nokia',\n",
       " 'web-разработка',\n",
       " 'конкурс',\n",
       " 'api',\n",
       " 'браузеры',\n",
       " 'mail.ru',\n",
       " 'mysql',\n",
       " 'новости',\n",
       " 'образование',\n",
       " 'samsung',\n",
       " 'intel',\n",
       " 'c',\n",
       " 'поиск',\n",
       " 'инвестиции',\n",
       " 'обучение',\n",
       " 'node.js',\n",
       " 'youtube',\n",
       " 'оптимизация',\n",
       " 'веб 2.0',\n",
       " 'вконтакте',\n",
       " 'flash',\n",
       " 'ссылки',\n",
       " 'windows phone',\n",
       " 'дайджест',\n",
       " 'веб-разработка',\n",
       " 'алгоритмы',\n",
       " 'музыка',\n",
       " 'книги',\n",
       " 'мобильные приложения',\n",
       " 'фриланс',\n",
       " 'веб-дизайн',\n",
       " 'arduino',\n",
       " 'cms',\n",
       " 'сервисы',\n",
       " 'cisco',\n",
       " 'ipad',\n",
       " 'skype',\n",
       " 'security',\n",
       " 'виртуализация',\n",
       " 'блогосфера',\n",
       " 'ibm',\n",
       " 'будущее',\n",
       " 'visual studio',\n",
       " 'qt',\n",
       " 'интерфейсы',\n",
       " 'sql',\n",
       " 'гаджеты',\n",
       " 'nginx',\n",
       " 'postgresql',\n",
       " 'копирайт',\n",
       " 'js',\n",
       " 'gmail',\n",
       " 'gamedev',\n",
       " 'аналитика',\n",
       " 'интервью',\n",
       " 'машинное обучение',\n",
       " 'big data',\n",
       " 'спам',\n",
       " 'роботы',\n",
       " 'hp',\n",
       " 'ruby on rails',\n",
       " 'монетизация',\n",
       " 'google chrome',\n",
       " 'django',\n",
       " 'seo',\n",
       " 'идея',\n",
       " 'искусственный интеллект',\n",
       " 'web 2.0',\n",
       " 'ajax',\n",
       " 'web',\n",
       " 'домены',\n",
       " 'amazon',\n",
       " 'wi-fi',\n",
       " 'windows 8',\n",
       " 'chrome',\n",
       " 'электронная коммерция',\n",
       " 'yahoo',\n",
       " 'github',\n",
       " 'asp.net',\n",
       " 'wordpress',\n",
       " 'производительность',\n",
       " 'unity3d',\n",
       " 'карьера',\n",
       " 'oracle',\n",
       " 'финансы',\n",
       " 'ui',\n",
       " 'интернет-магазин',\n",
       " 'css3',\n",
       " 'voip',\n",
       " 'сша',\n",
       " 'технологии',\n",
       " 'интерфейс',\n",
       " 'конференции',\n",
       " 'блоги',\n",
       " 'diy',\n",
       " '3d',\n",
       " 'разработка приложений',\n",
       " 'game development',\n",
       " 'git',\n",
       " 'взлом',\n",
       " 'android development',\n",
       " 'azure',\n",
       " 'perl',\n",
       " 'история',\n",
       " 'ноутбук',\n",
       " 'автоматизация',\n",
       " 'общение',\n",
       " 'разработка игр',\n",
       " 'китай',\n",
       " 'windows 7',\n",
       " 'опрос',\n",
       " 'framework',\n",
       " 'россия',\n",
       " 'хабр',\n",
       " 'математика',\n",
       " 'agile',\n",
       " 'sony',\n",
       " 'asus',\n",
       " 'проектирование',\n",
       " 'деньги',\n",
       " 'asterisk',\n",
       " 'mac os x',\n",
       " 'базы данных',\n",
       " 'adobe',\n",
       " 'rss',\n",
       " 'ios development',\n",
       " 'saas',\n",
       " 'закон',\n",
       " 'авторское право',\n",
       " 'machine learning',\n",
       " 'мобильная разработка',\n",
       " 'мониторинг',\n",
       " 'cloud',\n",
       " 'цод',\n",
       " 'исследование',\n",
       " 'mac',\n",
       " 'htc',\n",
       " 'bitcoin',\n",
       " 'приложения',\n",
       " 'системное администрирование',\n",
       " 'mozilla',\n",
       " 'украина',\n",
       " 'контент',\n",
       " 'objective-c',\n",
       " 'mobile',\n",
       " 'железо',\n",
       " 'продажи']"
      ]
     },
     "execution_count": 35,
     "metadata": {},
     "output_type": "execute_result"
    }
   ],
   "source": [
    "(df['tags']\n",
    " .explode()\n",
    " .apply(lambda x: x.lower())\n",
    " .value_counts()\n",
    " .index[:200]\n",
    " .tolist())"
   ]
  },
  {
   "cell_type": "code",
   "execution_count": 36,
   "id": "6f96268d",
   "metadata": {},
   "outputs": [],
   "source": [
    "tags_to_save = set([\n",
    " 'javascript',\n",
    " 'linux',\n",
    " 'php',\n",
    " 'java',\n",
    " 'python',\n",
    " 'программирование',\n",
    " 'разработка',\n",
    " '.net',\n",
    " 'c++',\n",
    " 'c#',\n",
    " 'ubuntu',\n",
    " 'ruby',\n",
    " 'web-разработка',\n",
    " 'api',\n",
    " 'mysql',\n",
    " 'c',\n",
    " 'node.js',\n",
    " 'веб-разработка',\n",
    " 'алгоритмы',\n",
    " 'виртуализация',\n",
    " 'qt',\n",
    " 'интерфейсы',\n",
    " 'sql','машинное обучение', 'ml', 'dl', 'machine learning','docker'])"
   ]
  },
  {
   "cell_type": "code",
   "execution_count": 37,
   "id": "30e18e23",
   "metadata": {},
   "outputs": [],
   "source": [
    "mask = df.tags.apply(lambda x: bool(list(set(x) & tags_to_save)))"
   ]
  },
  {
   "cell_type": "code",
   "execution_count": 45,
   "id": "ee927ee5",
   "metadata": {},
   "outputs": [],
   "source": [
    "res = df[mask]"
   ]
  },
  {
   "cell_type": "code",
   "execution_count": 46,
   "id": "7885857e",
   "metadata": {
    "scrolled": true
   },
   "outputs": [
    {
     "name": "stderr",
     "output_type": "stream",
     "text": [
      "C:\\Users\\ilove\\AppData\\Local\\Temp\\ipykernel_14728\\3953190809.py:1: SettingWithCopyWarning: \n",
      "A value is trying to be set on a copy of a slice from a DataFrame.\n",
      "Try using .loc[row_indexer,col_indexer] = value instead\n",
      "\n",
      "See the caveats in the documentation: https://pandas.pydata.org/pandas-docs/stable/user_guide/indexing.html#returning-a-view-versus-a-copy\n",
      "  res[\"text\"] = res.text.apply(str)\n",
      "C:\\Users\\ilove\\AppData\\Local\\Temp\\ipykernel_14728\\3953190809.py:2: SettingWithCopyWarning: \n",
      "A value is trying to be set on a copy of a slice from a DataFrame.\n",
      "Try using .loc[row_indexer,col_indexer] = value instead\n",
      "\n",
      "See the caveats in the documentation: https://pandas.pydata.org/pandas-docs/stable/user_guide/indexing.html#returning-a-view-versus-a-copy\n",
      "  res[\"text_len\"] = res.text.apply(len)\n"
     ]
    },
    {
     "data": {
      "text/plain": [
       "8207.561475581639"
      ]
     },
     "execution_count": 46,
     "metadata": {},
     "output_type": "execute_result"
    }
   ],
   "source": [
    "res[\"text\"] = res.text.apply(str)\n",
    "res[\"text_len\"] = res.text.apply(len)\n",
    "res.text_len.mean()"
   ]
  },
  {
   "cell_type": "code",
   "execution_count": 47,
   "id": "positive-mentor",
   "metadata": {},
   "outputs": [],
   "source": [
    "res.reset_index(drop=True, inplace=True)"
   ]
  },
  {
   "cell_type": "code",
   "execution_count": 48,
   "id": "silent-pipeline",
   "metadata": {},
   "outputs": [],
   "source": [
    "res.to_csv(\"data/habr/clean_habr.csv\")"
   ]
  },
  {
   "cell_type": "code",
   "execution_count": 72,
   "id": "3c3178be",
   "metadata": {},
   "outputs": [
    {
     "name": "stderr",
     "output_type": "stream",
     "text": [
      "100%|███████████████████████████████████████████████████████████████████████████| 23855/23855 [02:01<00:00, 196.24it/s]\n"
     ]
    }
   ],
   "source": [
    "parser = Parser()\n",
    "\n",
    "sents = []\n",
    "for text in tqdm(res.text):\n",
    "    sents += parser.text_to_sents(text)"
   ]
  },
  {
   "cell_type": "code",
   "execution_count": 78,
   "id": "04980991",
   "metadata": {},
   "outputs": [],
   "source": [
    "df = pd.DataFrame({\"text\": sents})\n",
    "df.to_csv(\"data/sents/habr.csv\", encoding='utf-8')"
   ]
  },
  {
   "cell_type": "code",
   "execution_count": null,
   "id": "b8746037",
   "metadata": {},
   "outputs": [],
   "source": []
  },
  {
   "cell_type": "code",
   "execution_count": null,
   "id": "fb9c2016",
   "metadata": {},
   "outputs": [],
   "source": []
  },
  {
   "cell_type": "code",
   "execution_count": null,
   "id": "7445babf",
   "metadata": {},
   "outputs": [],
   "source": []
  }
 ],
 "metadata": {
  "kernelspec": {
   "display_name": "Python 3 (ipykernel)",
   "language": "python",
   "name": "python3"
  },
  "language_info": {
   "codemirror_mode": {
    "name": "ipython",
    "version": 3
   },
   "file_extension": ".py",
   "mimetype": "text/x-python",
   "name": "python",
   "nbconvert_exporter": "python",
   "pygments_lexer": "ipython3",
   "version": "3.10.9"
  }
 },
 "nbformat": 4,
 "nbformat_minor": 5
}
