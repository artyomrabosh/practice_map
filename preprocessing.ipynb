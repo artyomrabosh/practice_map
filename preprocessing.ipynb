{
 "cells": [
  {
   "cell_type": "markdown",
   "id": "toxic-beijing",
   "metadata": {},
   "source": [
    "## imports"
   ]
  },
  {
   "cell_type": "code",
   "execution_count": null,
   "id": "latest-dealer",
   "metadata": {},
   "outputs": [],
   "source": [
    "import os\n",
    "import contextlib\n",
    "import enum\n",
    "import json\n",
    "import os\n",
    "import pathlib\n",
    "import typing as tp\n",
    "import uuid\n",
    "from tqdm import tqdm\n",
    "import copy\n",
    "from collections import Counter\n",
    "from  itertools import chain\n",
    "import ast\n",
    "import pandas as pd\n",
    "import random\n",
    "\n",
    "\n",
    "tqdm.pandas()\n",
    "\n",
    "#nlp\n",
    "from nltk import WordNetLemmatizer\n",
    "from nltk.corpus import stopwords\n",
    "from razdel import sentenize\n",
    "import nltk\n",
    "import re\n",
    "import string\n",
    "\n",
    "nltk.download('wordnet')\n",
    "nltk.download('omw-1.4')\n",
    "#nltk.download('stopwords')"
   ]
  },
  {
   "cell_type": "markdown",
   "id": "incredible-egypt",
   "metadata": {},
   "source": [
    "## preprocessing"
   ]
  },
  {
   "cell_type": "markdown",
   "id": "successful-voltage",
   "metadata": {},
   "source": [
    "### courseworks se"
   ]
  },
  {
   "cell_type": "code",
   "execution_count": null,
   "id": "civilian-hollow",
   "metadata": {},
   "outputs": [],
   "source": [
    "courseworks = pd.read_csv(\"data/se_spbu/works.csv\")"
   ]
  },
  {
   "cell_type": "code",
   "execution_count": null,
   "id": "regular-borough",
   "metadata": {},
   "outputs": [],
   "source": [
    "def string_list_to_list(string):\n",
    "    return string[2:-1].split(\"', '\")\n",
    "\n",
    "def preprocessing_pipeline(text):\n",
    "    text = string_list_to_list(text)\n",
    "    text = \" \".join(text[1:]) # введение\n",
    "    text = re.sub(\"- \", \"\", text) # переносы строки\n",
    "    \n",
    "    formulas_characters = \"@#^&*+_=<✓α>/≡≡Σ∈≤\"\n",
    "    chars = '●•'\n",
    "    \n",
    "    text = text.translate(str.maketrans('', '', chars))\n",
    "    text = list(sentenize(text))\n",
    "    \n",
    "    \n",
    "    sents = [sent.text for sent in text]\n",
    "    sents = list(filter(lambda x: \"аблица\" not in x, sents))\n",
    "    sents = list(filter(lambda x: \"траница\" not in x, sents))\n",
    "    sents = list(filter(lambda x: \"исунок\" not in x, sents))\n",
    "    sents = list(filter(lambda x: len(x)>10, sents))\n",
    "    sents = list(filter(lambda x: len(x)<1500, sents))\n",
    "    sents = list(filter(lambda x: not any(c in formulas_characters for c in x), sents))\n",
    "    \n",
    "    \n",
    "    return sents"
   ]
  },
  {
   "cell_type": "code",
   "execution_count": null,
   "id": "ed4e5700",
   "metadata": {},
   "outputs": [],
   "source": [
    "courseworks[\"preprocessed_texts\"] = courseworks.texts.apply(preprocessing_pipeline)\n",
    "courseworks['preprocessed_len'] = courseworks.preprocessed_texts.apply(len)"
   ]
  },
  {
   "cell_type": "code",
   "execution_count": null,
   "id": "07a26854",
   "metadata": {},
   "outputs": [],
   "source": [
    "courseworks = courseworks[courseworks['preprocessed_len'] > 0]"
   ]
  },
  {
   "cell_type": "code",
   "execution_count": null,
   "id": "59dcde86",
   "metadata": {},
   "outputs": [],
   "source": [
    "train_texts = courseworks[:-30]\n",
    "val_texts = courseworks[-30:]\n",
    "train_sentences = train_texts.preprocessed_texts.explode(ignore_index=True)\n",
    "val_sentences = val_texts.preprocessed_texts.explode(ignore_index=True)"
   ]
  },
  {
   "cell_type": "markdown",
   "id": "stunning-serial",
   "metadata": {},
   "source": [
    "### habr"
   ]
  },
  {
   "cell_type": "code",
   "execution_count": null,
   "id": "designed-brazilian",
   "metadata": {},
   "outputs": [],
   "source": [
    "habr = pd.read_csv(\"data/habr/clean_habr.csv\",\n",
    "                 lineterminator='\\n')"
   ]
  },
  {
   "cell_type": "code",
   "execution_count": null,
   "id": "diverse-hypothetical",
   "metadata": {},
   "outputs": [],
   "source": [
    "habr = habr[-5000:]"
   ]
  },
  {
   "cell_type": "code",
   "execution_count": null,
   "id": "37518fa0",
   "metadata": {},
   "outputs": [],
   "source": [
    "def string_list_to_list(string):\n",
    "    return string[2:-1].split(\"', '\")\n",
    "\n",
    "def preprocessing_pipeline_habr(text):\n",
    "    formulas_characters = \"@#^&*+_=<✓α>/≡≡Σ∈≤\"\n",
    "    chars = '●•'\n",
    "    \n",
    "    text = text.replace(\"\\r\", \"\\n \")\n",
    "    text = text.replace(\"\\n\", \" \")\n",
    "    text = text.replace(\"\\xa0\", \" \")\n",
    "    text = text.translate(str.maketrans('', '', chars))\n",
    "    text = list(sentenize(text))\n",
    "    \n",
    "    \n",
    "    sents = [sent.text for sent in text]\n",
    "    sents = list(filter(lambda x: \"аблица\" not in x, sents))\n",
    "    sents = list(filter(lambda x: \"траница\" not in x, sents))\n",
    "    sents = list(filter(lambda x: \"исунок\" not in x, sents))\n",
    "    sents = list(filter(lambda x: len(x)>10, sents))\n",
    "    sents = list(filter(lambda x: len(x)<1500, sents))\n",
    "    sents = list(filter(lambda x: not any(c in formulas_characters for c in x), sents))\n",
    "    \n",
    "    \n",
    "    return sents"
   ]
  },
  {
   "cell_type": "code",
   "execution_count": null,
   "id": "previous-clock",
   "metadata": {},
   "outputs": [],
   "source": [
    "habr.text = habr.text.progress_apply(preprocessing_pipeline)"
   ]
  },
  {
   "cell_type": "code",
   "execution_count": null,
   "id": "determined-consequence",
   "metadata": {},
   "outputs": [],
   "source": [
    "train_texts = habr[:-300]\n",
    "val_texts = habr[-300:]\n",
    "\n",
    "#df_sentences = df.preprocessed_texts.explode(ignore_index=True)\n",
    "train_sentences_habr = train_texts.text.explode(ignore_index=True)\n",
    "val_sentences_habr = val_texts.text.explode(ignore_index=True)"
   ]
  },
  {
   "cell_type": "code",
   "execution_count": null,
   "id": "funded-daniel",
   "metadata": {},
   "outputs": [],
   "source": [
    "sentences_habr = make_text(sentences_habr)"
   ]
  },
  {
   "cell_type": "markdown",
   "id": "valid-engineer",
   "metadata": {},
   "source": [
    "## combine habr and courseworks"
   ]
  },
  {
   "cell_type": "code",
   "execution_count": null,
   "id": "359577d0",
   "metadata": {},
   "outputs": [],
   "source": [
    "train_habr = pd.DataFrame({\"text\": train_sentences_habr, \"source\" : \"habr\"})\n",
    "val_habr = pd.DataFrame({\"text\": val_sentences_habr, \"source\" : \"habr\"})\n",
    "train_courseworks = pd.DataFrame({\"text\": train_sentences, \"source\" : \"coursework\"})\n",
    "val_courseworks = pd.DataFrame({\"text\": val_sentences, \"source\" : \"coursework\"})"
   ]
  },
  {
   "cell_type": "code",
   "execution_count": null,
   "id": "29c0a5c4",
   "metadata": {},
   "outputs": [],
   "source": [
    "train = pd.concat([train_habr, train_courseworks])\n",
    "val = pd.concat([val_habr, val_courseworks])"
   ]
  },
  {
   "cell_type": "code",
   "execution_count": null,
   "id": "255dee66",
   "metadata": {},
   "outputs": [],
   "source": [
    "train['target'] = train.source.apply(lambda x: 1 if x == \"habr\" else 0)\n",
    "val['target'] = val.source.apply(lambda x: 1 if x == \"habr\" else 0)"
   ]
  },
  {
   "cell_type": "code",
   "execution_count": null,
   "id": "065709e8",
   "metadata": {},
   "outputs": [],
   "source": [
    "train.to_csv(\"habr_spbu290k_train.csv\")\n",
    "val.to_csv(\"habr_spbu290k_val.csv\")"
   ]
  },
  {
   "cell_type": "code",
   "execution_count": null,
   "id": "63cca23e",
   "metadata": {},
   "outputs": [],
   "source": [
    "train_df"
   ]
  },
  {
   "cell_type": "markdown",
   "id": "3f1957cf",
   "metadata": {},
   "source": [
    "## sentiment"
   ]
  },
  {
   "cell_type": "markdown",
   "id": "5026979c",
   "metadata": {},
   "source": [
    "## formality"
   ]
  }
 ],
 "metadata": {
  "kernelspec": {
   "display_name": "Python 3 (ipykernel)",
   "language": "python",
   "name": "python3"
  },
  "language_info": {
   "codemirror_mode": {
    "name": "ipython",
    "version": 3
   },
   "file_extension": ".py",
   "mimetype": "text/x-python",
   "name": "python",
   "nbconvert_exporter": "python",
   "pygments_lexer": "ipython3",
   "version": "3.10.9"
  }
 },
 "nbformat": 4,
 "nbformat_minor": 5
}
