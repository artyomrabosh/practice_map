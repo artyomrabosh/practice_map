{
 "cells": [
  {
   "cell_type": "code",
   "execution_count": 1,
   "id": "80d46416",
   "metadata": {},
   "outputs": [],
   "source": [
    "from sents_dataset import LabeledDataset"
   ]
  },
  {
   "cell_type": "code",
   "execution_count": 2,
   "id": "f7c20eca",
   "metadata": {},
   "outputs": [],
   "source": [
    "labeled = LabeledDataset()"
   ]
  },
  {
   "cell_type": "code",
   "execution_count": 3,
   "id": "9d821237",
   "metadata": {},
   "outputs": [
    {
     "name": "stdout",
     "output_type": "stream",
     "text": [
      "Source  : habr\n",
      "Text    : Понятно, что представление оценки в текущем виде не позволит достаточно точно определить людей со схожими интересами.\n",
      "\n",
      "invalid command\n",
      "valid commands: Y, N, S, EXIT\n",
      "exit\n"
     ]
    }
   ],
   "source": [
    "labeled.label_df()"
   ]
  },
  {
   "cell_type": "code",
   "execution_count": null,
   "id": "84f598da",
   "metadata": {},
   "outputs": [],
   "source": []
  }
 ],
 "metadata": {
  "kernelspec": {
   "display_name": "Python 3 (ipykernel)",
   "language": "python",
   "name": "python3"
  },
  "language_info": {
   "codemirror_mode": {
    "name": "ipython",
    "version": 3
   },
   "file_extension": ".py",
   "mimetype": "text/x-python",
   "name": "python",
   "nbconvert_exporter": "python",
   "pygments_lexer": "ipython3",
   "version": "3.10.9"
  }
 },
 "nbformat": 4,
 "nbformat_minor": 5
}
