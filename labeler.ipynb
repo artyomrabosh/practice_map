{
 "cells": [
  {
   "cell_type": "code",
   "execution_count": 3,
   "id": "c583ba0e",
   "metadata": {},
   "outputs": [],
   "source": [
    "from utils.datasets import LabeledDataset"
   ]
  },
  {
   "cell_type": "code",
   "execution_count": 4,
   "id": "6d766e57",
   "metadata": {},
   "outputs": [],
   "source": [
    "labeled = LabeledDataset()"
   ]
  },
  {
   "cell_type": "code",
   "execution_count": 5,
   "id": "85631b47",
   "metadata": {},
   "outputs": [
    {
     "name": "stdout",
     "output_type": "stream",
     "text": [
      "Source  : habr\n",
      "Text    : Тестировщики тратят свое время на поиск дефектов, проходя одни и те же сценарии руками многократно (или же пытаясь их \"автоматизировать\"), ругаются с разработчиками за исправления найденных дефектов, \"отчитываются\" за качество перед менеджерами и т.д.\n",
      "exit\n"
     ]
    }
   ],
   "source": [
    "labeled.label_df()"
   ]
  },
  {
   "cell_type": "code",
   "execution_count": 6,
   "id": "cec88026",
   "metadata": {},
   "outputs": [
    {
     "data": {
      "text/html": [
       "<div>\n",
       "<style scoped>\n",
       "    .dataframe tbody tr th:only-of-type {\n",
       "        vertical-align: middle;\n",
       "    }\n",
       "\n",
       "    .dataframe tbody tr th {\n",
       "        vertical-align: top;\n",
       "    }\n",
       "\n",
       "    .dataframe thead th {\n",
       "        text-align: right;\n",
       "    }\n",
       "</style>\n",
       "<table border=\"1\" class=\"dataframe\">\n",
       "  <thead>\n",
       "    <tr style=\"text-align: right;\">\n",
       "      <th></th>\n",
       "      <th>text</th>\n",
       "      <th>source_name</th>\n",
       "      <th>label</th>\n",
       "    </tr>\n",
       "  </thead>\n",
       "  <tbody>\n",
       "    <tr>\n",
       "      <th>0</th>\n",
       "      <td>Это создаст следующую структуру каталогов.</td>\n",
       "      <td>habr</td>\n",
       "      <td>0.0</td>\n",
       "    </tr>\n",
       "    <tr>\n",
       "      <th>1</th>\n",
       "      <td>Тогда в Греции все было хорошо.</td>\n",
       "      <td>habr</td>\n",
       "      <td>0.0</td>\n",
       "    </tr>\n",
       "    <tr>\n",
       "      <th>2</th>\n",
       "      <td>Как пользоваться git вообще и Github в частнос...</td>\n",
       "      <td>habr</td>\n",
       "      <td>0.0</td>\n",
       "    </tr>\n",
       "    <tr>\n",
       "      <th>3</th>\n",
       "      <td>Большая часть поста - про Волгоград.</td>\n",
       "      <td>habr</td>\n",
       "      <td>0.0</td>\n",
       "    </tr>\n",
       "    <tr>\n",
       "      <th>4</th>\n",
       "      <td>Он нам нужен, чтобы настроить поток, но нас ни...</td>\n",
       "      <td>habr</td>\n",
       "      <td>0.0</td>\n",
       "    </tr>\n",
       "    <tr>\n",
       "      <th>...</th>\n",
       "      <td>...</td>\n",
       "      <td>...</td>\n",
       "      <td>...</td>\n",
       "    </tr>\n",
       "    <tr>\n",
       "      <th>189</th>\n",
       "      <td>Пожалуйста воздержитесь от них :(</td>\n",
       "      <td>habr</td>\n",
       "      <td>0.0</td>\n",
       "    </tr>\n",
       "    <tr>\n",
       "      <th>190</th>\n",
       "      <td>Отображение времени ответа на сообщения в чатах.</td>\n",
       "      <td>habr</td>\n",
       "      <td>0.0</td>\n",
       "    </tr>\n",
       "    <tr>\n",
       "      <th>191</th>\n",
       "      <td>Машинное обучение - это математическая дисципл...</td>\n",
       "      <td>habr</td>\n",
       "      <td>1.0</td>\n",
       "    </tr>\n",
       "    <tr>\n",
       "      <th>192</th>\n",
       "      <td>Будем рассчитывать позиции для каждого из них ...</td>\n",
       "      <td>habr</td>\n",
       "      <td>0.0</td>\n",
       "    </tr>\n",
       "    <tr>\n",
       "      <th>193</th>\n",
       "      <td>Он позволяет последовательно в поточном режиме...</td>\n",
       "      <td>spbu</td>\n",
       "      <td>1.0</td>\n",
       "    </tr>\n",
       "  </tbody>\n",
       "</table>\n",
       "<p>194 rows × 3 columns</p>\n",
       "</div>"
      ],
      "text/plain": [
       "                                                  text source_name  label\n",
       "0           Это создаст следующую структуру каталогов.        habr    0.0\n",
       "1                      Тогда в Греции все было хорошо.        habr    0.0\n",
       "2    Как пользоваться git вообще и Github в частнос...        habr    0.0\n",
       "3                 Большая часть поста - про Волгоград.        habr    0.0\n",
       "4    Он нам нужен, чтобы настроить поток, но нас ни...        habr    0.0\n",
       "..                                                 ...         ...    ...\n",
       "189                  Пожалуйста воздержитесь от них :(        habr    0.0\n",
       "190   Отображение времени ответа на сообщения в чатах.        habr    0.0\n",
       "191  Машинное обучение - это математическая дисципл...        habr    1.0\n",
       "192  Будем рассчитывать позиции для каждого из них ...        habr    0.0\n",
       "193  Он позволяет последовательно в поточном режиме...        spbu    1.0\n",
       "\n",
       "[194 rows x 3 columns]"
      ]
     },
     "execution_count": 6,
     "metadata": {},
     "output_type": "execute_result"
    }
   ],
   "source": [
    "labeled.labeled_df"
   ]
  }
 ],
 "metadata": {
  "kernelspec": {
   "display_name": "Python 3 (ipykernel)",
   "language": "python",
   "name": "python3"
  },
  "language_info": {
   "codemirror_mode": {
    "name": "ipython",
    "version": 3
   },
   "file_extension": ".py",
   "mimetype": "text/x-python",
   "name": "python",
   "nbconvert_exporter": "python",
   "pygments_lexer": "ipython3",
   "version": "3.10.9"
  }
 },
 "nbformat": 4,
 "nbformat_minor": 5
}
